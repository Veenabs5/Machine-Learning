{
 "cells": [
  {
   "cell_type": "code",
   "execution_count": 1,
   "id": "2bd68255-4ffb-42cc-abdd-4cc7173496a9",
   "metadata": {},
   "outputs": [],
   "source": [
    "#!pip install shapash"
   ]
  },
  {
   "cell_type": "code",
   "execution_count": 30,
   "id": "4245fd29-26c5-408a-bb45-aab7de8db547",
   "metadata": {},
   "outputs": [],
   "source": [
    "import pandas as pd\n",
    "import random\n",
    "from sklearn.model_selection import train_test_split\n",
    "from sklearn.ensemble import RandomForestRegressor\n",
    "#from shapash.explainer.smart_explainer import SmartExplainer \n",
    "import seaborn as sns"
   ]
  },
  {
   "cell_type": "code",
   "execution_count": 31,
   "id": "bb29b17e",
   "metadata": {},
   "outputs": [],
   "source": [
    "from shapash import SmartExplainer"
   ]
  },
  {
   "cell_type": "markdown",
   "id": "7ded2031-3beb-4c0c-bd9a-ca26102dd80d",
   "metadata": {},
   "source": [
    "# Loading Dataset\n"
   ]
  },
  {
   "cell_type": "code",
   "execution_count": 32,
   "id": "dc3db55d",
   "metadata": {},
   "outputs": [],
   "source": [
    "df=pd.read_csv(r\"C:\\Users\\hp\\OneDrive\\Training\\datasets-master\\datasets-master\\BostonHousing.csv\")\n",
    "y = df['Price']\n",
    "X = df.drop(['Price'], axis = 1)"
   ]
  },
  {
   "cell_type": "code",
   "execution_count": 24,
   "id": "3fdfa19c",
   "metadata": {},
   "outputs": [
    {
     "data": {
      "text/html": [
       "<div>\n",
       "<style scoped>\n",
       "    .dataframe tbody tr th:only-of-type {\n",
       "        vertical-align: middle;\n",
       "    }\n",
       "\n",
       "    .dataframe tbody tr th {\n",
       "        vertical-align: top;\n",
       "    }\n",
       "\n",
       "    .dataframe thead th {\n",
       "        text-align: right;\n",
       "    }\n",
       "</style>\n",
       "<table border=\"1\" class=\"dataframe\">\n",
       "  <thead>\n",
       "    <tr style=\"text-align: right;\">\n",
       "      <th></th>\n",
       "      <th>crim</th>\n",
       "      <th>zn</th>\n",
       "      <th>indus</th>\n",
       "      <th>chas</th>\n",
       "      <th>nox</th>\n",
       "      <th>rm</th>\n",
       "      <th>age</th>\n",
       "      <th>dis</th>\n",
       "      <th>rad</th>\n",
       "      <th>tax</th>\n",
       "      <th>ptratio</th>\n",
       "      <th>b</th>\n",
       "      <th>lstat</th>\n",
       "      <th>Price</th>\n",
       "    </tr>\n",
       "  </thead>\n",
       "  <tbody>\n",
       "    <tr>\n",
       "      <th>0</th>\n",
       "      <td>0.00632</td>\n",
       "      <td>18.0</td>\n",
       "      <td>2.31</td>\n",
       "      <td>0</td>\n",
       "      <td>0.538</td>\n",
       "      <td>6.575</td>\n",
       "      <td>65.2</td>\n",
       "      <td>4.0900</td>\n",
       "      <td>1</td>\n",
       "      <td>296</td>\n",
       "      <td>15.3</td>\n",
       "      <td>396.90</td>\n",
       "      <td>4.98</td>\n",
       "      <td>24.0</td>\n",
       "    </tr>\n",
       "    <tr>\n",
       "      <th>1</th>\n",
       "      <td>0.02731</td>\n",
       "      <td>0.0</td>\n",
       "      <td>7.07</td>\n",
       "      <td>0</td>\n",
       "      <td>0.469</td>\n",
       "      <td>6.421</td>\n",
       "      <td>78.9</td>\n",
       "      <td>4.9671</td>\n",
       "      <td>2</td>\n",
       "      <td>242</td>\n",
       "      <td>17.8</td>\n",
       "      <td>396.90</td>\n",
       "      <td>9.14</td>\n",
       "      <td>21.6</td>\n",
       "    </tr>\n",
       "    <tr>\n",
       "      <th>2</th>\n",
       "      <td>0.02729</td>\n",
       "      <td>0.0</td>\n",
       "      <td>7.07</td>\n",
       "      <td>0</td>\n",
       "      <td>0.469</td>\n",
       "      <td>7.185</td>\n",
       "      <td>61.1</td>\n",
       "      <td>4.9671</td>\n",
       "      <td>2</td>\n",
       "      <td>242</td>\n",
       "      <td>17.8</td>\n",
       "      <td>392.83</td>\n",
       "      <td>4.03</td>\n",
       "      <td>34.7</td>\n",
       "    </tr>\n",
       "    <tr>\n",
       "      <th>3</th>\n",
       "      <td>0.03237</td>\n",
       "      <td>0.0</td>\n",
       "      <td>2.18</td>\n",
       "      <td>0</td>\n",
       "      <td>0.458</td>\n",
       "      <td>6.998</td>\n",
       "      <td>45.8</td>\n",
       "      <td>6.0622</td>\n",
       "      <td>3</td>\n",
       "      <td>222</td>\n",
       "      <td>18.7</td>\n",
       "      <td>394.63</td>\n",
       "      <td>2.94</td>\n",
       "      <td>33.4</td>\n",
       "    </tr>\n",
       "    <tr>\n",
       "      <th>4</th>\n",
       "      <td>0.06905</td>\n",
       "      <td>0.0</td>\n",
       "      <td>2.18</td>\n",
       "      <td>0</td>\n",
       "      <td>0.458</td>\n",
       "      <td>7.147</td>\n",
       "      <td>54.2</td>\n",
       "      <td>6.0622</td>\n",
       "      <td>3</td>\n",
       "      <td>222</td>\n",
       "      <td>18.7</td>\n",
       "      <td>396.90</td>\n",
       "      <td>5.33</td>\n",
       "      <td>36.2</td>\n",
       "    </tr>\n",
       "  </tbody>\n",
       "</table>\n",
       "</div>"
      ],
      "text/plain": [
       "      crim    zn  indus  chas    nox     rm   age     dis  rad  tax  ptratio  \\\n",
       "0  0.00632  18.0   2.31     0  0.538  6.575  65.2  4.0900    1  296     15.3   \n",
       "1  0.02731   0.0   7.07     0  0.469  6.421  78.9  4.9671    2  242     17.8   \n",
       "2  0.02729   0.0   7.07     0  0.469  7.185  61.1  4.9671    2  242     17.8   \n",
       "3  0.03237   0.0   2.18     0  0.458  6.998  45.8  6.0622    3  222     18.7   \n",
       "4  0.06905   0.0   2.18     0  0.458  7.147  54.2  6.0622    3  222     18.7   \n",
       "\n",
       "        b  lstat  Price  \n",
       "0  396.90   4.98   24.0  \n",
       "1  396.90   9.14   21.6  \n",
       "2  392.83   4.03   34.7  \n",
       "3  394.63   2.94   33.4  \n",
       "4  396.90   5.33   36.2  "
      ]
     },
     "execution_count": 24,
     "metadata": {},
     "output_type": "execute_result"
    }
   ],
   "source": [
    "df.head()"
   ]
  },
  {
   "cell_type": "markdown",
   "id": "4b0a74ac-3bf7-4dd4-915e-1fc3dc3967f2",
   "metadata": {},
   "source": [
    "# Splitting Dataset into Train And Test"
   ]
  },
  {
   "cell_type": "code",
   "execution_count": 33,
   "id": "165d6019-f4bc-4b5f-a654-c1f168b51111",
   "metadata": {},
   "outputs": [],
   "source": [
    " X_train, X_test, y_train, y_test = train_test_split(X, y, test_size = 0.3, random_state=42)\n",
    " "
   ]
  },
  {
   "cell_type": "markdown",
   "id": "eeac66b0-5d4c-4e35-8602-8524418476c8",
   "metadata": {},
   "source": [
    "# Training The Model"
   ]
  },
  {
   "cell_type": "code",
   "execution_count": 34,
   "id": "7fdfcaea-0125-4afe-90ac-4fbb3d46d40e",
   "metadata": {},
   "outputs": [
    {
     "data": {
      "text/plain": [
       "RandomForestRegressor(max_depth=5, n_estimators=12, random_state=42)"
      ]
     },
     "execution_count": 34,
     "metadata": {},
     "output_type": "execute_result"
    }
   ],
   "source": [
    "model = RandomForestRegressor(max_depth=5, random_state=42, n_estimators=12)\n",
    "model.fit(X_train, y_train)\n"
   ]
  },
  {
   "cell_type": "markdown",
   "id": "7e5d3892-d19d-4810-9e45-70223dbb75f6",
   "metadata": {},
   "source": [
    "# Prediction"
   ]
  },
  {
   "cell_type": "code",
   "execution_count": 35,
   "id": "3f3f644c-21f9-4d9a-9c27-13f36da91270",
   "metadata": {},
   "outputs": [
    {
     "data": {
      "text/html": [
       "<div>\n",
       "<style scoped>\n",
       "    .dataframe tbody tr th:only-of-type {\n",
       "        vertical-align: middle;\n",
       "    }\n",
       "\n",
       "    .dataframe tbody tr th {\n",
       "        vertical-align: top;\n",
       "    }\n",
       "\n",
       "    .dataframe thead th {\n",
       "        text-align: right;\n",
       "    }\n",
       "</style>\n",
       "<table border=\"1\" class=\"dataframe\">\n",
       "  <thead>\n",
       "    <tr style=\"text-align: right;\">\n",
       "      <th></th>\n",
       "      <th>pred</th>\n",
       "    </tr>\n",
       "  </thead>\n",
       "  <tbody>\n",
       "    <tr>\n",
       "      <th>173</th>\n",
       "      <td>22.339164</td>\n",
       "    </tr>\n",
       "    <tr>\n",
       "      <th>274</th>\n",
       "      <td>28.458042</td>\n",
       "    </tr>\n",
       "    <tr>\n",
       "      <th>491</th>\n",
       "      <td>16.707684</td>\n",
       "    </tr>\n",
       "    <tr>\n",
       "      <th>72</th>\n",
       "      <td>23.171373</td>\n",
       "    </tr>\n",
       "    <tr>\n",
       "      <th>452</th>\n",
       "      <td>17.334208</td>\n",
       "    </tr>\n",
       "  </tbody>\n",
       "</table>\n",
       "</div>"
      ],
      "text/plain": [
       "          pred\n",
       "173  22.339164\n",
       "274  28.458042\n",
       "491  16.707684\n",
       "72   23.171373\n",
       "452  17.334208"
      ]
     },
     "execution_count": 35,
     "metadata": {},
     "output_type": "execute_result"
    }
   ],
   "source": [
    "y_pred = pd.DataFrame(model.predict(X_test),columns=['pred'], index=X_test.index)\n",
    "y_pred.head()"
   ]
  },
  {
   "cell_type": "markdown",
   "id": "9a49a134-9202-401a-ad21-468f86046478",
   "metadata": {},
   "source": [
    "# Understand Model using Shapash \n",
    "In this section, we use the SmartExplainer Object from shapash.\n",
    "- It allows users to understand how the model works with the specified data. \n",
    "- This object must be used only for data mining step. Shapash provides another object for deployment.\n",
    "- In this tutorial, we are not exploring possibilites of the SmartExplainer but others will. (see other tutorials)"
   ]
  },
  {
   "cell_type": "code",
   "execution_count": 36,
   "id": "354cd1c7-2dd1-40ae-9fea-03c14190d642",
   "metadata": {},
   "outputs": [],
   "source": [
    "xpl = SmartExplainer(model=model)\n",
    "xpl.compile(x=X_test, y_pred=y_pred, y_target=y_test)"
   ]
  },
  {
   "cell_type": "markdown",
   "id": "5dc023f4-de69-48c2-a50a-e00805067316",
   "metadata": {},
   "source": [
    "## Start Web App"
   ]
  },
  {
   "cell_type": "code",
   "execution_count": 37,
   "id": "571d15a4-ec20-4238-8a61-4816f5d9dfd9",
   "metadata": {},
   "outputs": [
    {
     "name": "stderr",
     "output_type": "stream",
     "text": [
      "C:\\Users\\hp\\anaconda3\\lib\\site-packages\\shapash\\webapp\\smart_app.py:338: FutureWarning:\n",
      "\n",
      "Using short name for 'orient' is deprecated. Only the options: ('dict', list, 'series', 'split', 'records', 'index') will be used in a future version. Use one of the above to silence this warning.\n",
      "\n",
      "INFO:root:Your Shapash application run on http://DESKTOP-69GSM78:8050/\n"
     ]
    },
    {
     "name": "stdout",
     "output_type": "stream",
     "text": [
      "Dash is running on http://0.0.0.0:8050/\n",
      "\n",
      "Dash is running on http://0.0.0.0:8050/\n",
      "\n"
     ]
    },
    {
     "name": "stderr",
     "output_type": "stream",
     "text": [
      "INFO:root:Use the method .kill() to down your app.\n"
     ]
    },
    {
     "name": "stdout",
     "output_type": "stream",
     "text": [
      "Dash is running on http://0.0.0.0:8050/\n",
      "\n"
     ]
    },
    {
     "name": "stderr",
     "output_type": "stream",
     "text": [
      "INFO:shapash.webapp.smart_app:Dash is running on http://0.0.0.0:8050/\n",
      "\n"
     ]
    },
    {
     "name": "stdout",
     "output_type": "stream",
     "text": [
      " * Serving Flask app \"shapash.webapp.smart_app\" (lazy loading)\n",
      " * Environment: production\n",
      "\u001b[31m   WARNING: This is a development server. Do not use it in a production deployment.\u001b[0m\n",
      "\u001b[2m   Use a production WSGI server instead.\u001b[0m\n",
      " * Debug mode: off\n"
     ]
    },
    {
     "name": "stderr",
     "output_type": "stream",
     "text": [
      "WARNING:werkzeug: * Running on all addresses.\n",
      "   WARNING: This is a development server. Do not use it in a production deployment.\n",
      "INFO:werkzeug: * Running on http://192.168.0.108:8050/ (Press CTRL+C to quit)\n",
      "INFO:werkzeug:192.168.0.108 - - [13/Feb/2023 12:30:52] \"GET / HTTP/1.1\" 200 -\n",
      "INFO:werkzeug:192.168.0.108 - - [13/Feb/2023 12:30:52] \"\u001b[36mGET /assets/jquery.js?m=1672904960.2232463 HTTP/1.1\u001b[0m\" 304 -\n",
      "INFO:werkzeug:192.168.0.108 - - [13/Feb/2023 12:30:52] \"\u001b[36mGET /assets/style.css?m=1672904960.2320642 HTTP/1.1\u001b[0m\" 304 -\n",
      "INFO:werkzeug:192.168.0.108 - - [13/Feb/2023 12:30:52] \"\u001b[36mGET /assets/main.js?m=1672904960.2232463 HTTP/1.1\u001b[0m\" 304 -\n",
      "INFO:werkzeug:192.168.0.108 - - [13/Feb/2023 12:30:52] \"\u001b[36mGET /assets/material-icons.css?m=1672904960.224756 HTTP/1.1\u001b[0m\" 304 -\n",
      "INFO:werkzeug:192.168.0.108 - - [13/Feb/2023 12:30:53] \"GET /_dash-dependencies HTTP/1.1\" 200 -\n",
      "INFO:werkzeug:192.168.0.108 - - [13/Feb/2023 12:30:53] \"GET /_dash-layout HTTP/1.1\" 200 -\n",
      "INFO:werkzeug:192.168.0.108 - - [13/Feb/2023 12:30:53] \"GET /_dash-component-suites/dash/dcc/async-dropdown.js HTTP/1.1\" 200 -\n",
      "INFO:werkzeug:192.168.0.108 - - [13/Feb/2023 12:30:53] \"GET /_dash-component-suites/dash/dcc/async-graph.js HTTP/1.1\" 200 -\n",
      "INFO:werkzeug:192.168.0.108 - - [13/Feb/2023 12:30:53] \"GET /_dash-component-suites/dash/dcc/async-plotlyjs.js HTTP/1.1\" 200 -\n",
      "INFO:werkzeug:192.168.0.108 - - [13/Feb/2023 12:30:53] \"GET /_dash-component-suites/dash/dash_table/async-highlight.js HTTP/1.1\" 200 -\n",
      "INFO:werkzeug:192.168.0.108 - - [13/Feb/2023 12:30:53] \"GET /_dash-component-suites/dash/dash_table/async-table.js HTTP/1.1\" 200 -\n",
      "INFO:werkzeug:192.168.0.108 - - [13/Feb/2023 12:30:53] \"GET /_dash-component-suites/dash/dcc/async-slider.js HTTP/1.1\" 200 -\n",
      "INFO:werkzeug:192.168.0.108 - - [13/Feb/2023 12:30:54] \"\u001b[36mGET /assets/settings.png HTTP/1.1\u001b[0m\" 304 -\n",
      "INFO:werkzeug:192.168.0.108 - - [13/Feb/2023 12:30:54] \"\u001b[36mGET /assets/shapash-fond-fonce.png HTTP/1.1\u001b[0m\" 304 -\n",
      "INFO:werkzeug:192.168.0.108 - - [13/Feb/2023 12:30:54] \"\u001b[36mGET /assets/reload.png HTTP/1.1\u001b[0m\" 304 -\n",
      "INFO:werkzeug:192.168.0.108 - - [13/Feb/2023 12:30:54] \"POST /_dash-update-component HTTP/1.1\" 200 -\n",
      "INFO:werkzeug:192.168.0.108 - - [13/Feb/2023 12:30:54] \"POST /_dash-update-component HTTP/1.1\" 200 -\n",
      "INFO:werkzeug:192.168.0.108 - - [13/Feb/2023 12:30:54] \"POST /_dash-update-component HTTP/1.1\" 200 -\n",
      "INFO:werkzeug:192.168.0.108 - - [13/Feb/2023 12:30:54] \"POST /_dash-update-component HTTP/1.1\" 200 -\n",
      "INFO:werkzeug:192.168.0.108 - - [13/Feb/2023 12:30:54] \"POST /_dash-update-component HTTP/1.1\" 200 -\n",
      "INFO:werkzeug:192.168.0.108 - - [13/Feb/2023 12:30:54] \"POST /_dash-update-component HTTP/1.1\" 200 -\n",
      "INFO:werkzeug:192.168.0.108 - - [13/Feb/2023 12:30:54] \"POST /_dash-update-component HTTP/1.1\" 200 -\n",
      "INFO:werkzeug:192.168.0.108 - - [13/Feb/2023 12:30:54] \"POST /_dash-update-component HTTP/1.1\" 200 -\n",
      "INFO:werkzeug:192.168.0.108 - - [13/Feb/2023 12:30:54] \"POST /_dash-update-component HTTP/1.1\" 200 -\n",
      "INFO:werkzeug:192.168.0.108 - - [13/Feb/2023 12:30:54] \"POST /_dash-update-component HTTP/1.1\" 200 -\n",
      "INFO:werkzeug:192.168.0.108 - - [13/Feb/2023 12:30:54] \"\u001b[35m\u001b[1mPOST /_dash-update-component HTTP/1.1\u001b[0m\" 204 -\n",
      "INFO:werkzeug:192.168.0.108 - - [13/Feb/2023 12:30:54] \"POST /_dash-update-component HTTP/1.1\" 200 -\n",
      "INFO:werkzeug:192.168.0.108 - - [13/Feb/2023 12:30:55] \"POST /_dash-update-component HTTP/1.1\" 200 -\n",
      "INFO:werkzeug:192.168.0.108 - - [13/Feb/2023 12:30:55] \"POST /_dash-update-component HTTP/1.1\" 200 -\n",
      "INFO:werkzeug:192.168.0.108 - - [13/Feb/2023 12:30:55] \"POST /_dash-update-component HTTP/1.1\" 200 -\n",
      "INFO:werkzeug:192.168.0.108 - - [13/Feb/2023 12:30:55] \"POST /_dash-update-component HTTP/1.1\" 200 -\n",
      "INFO:werkzeug:192.168.0.108 - - [13/Feb/2023 12:30:55] \"POST /_dash-update-component HTTP/1.1\" 200 -\n",
      "INFO:werkzeug:192.168.0.108 - - [13/Feb/2023 12:30:55] \"POST /_dash-update-component HTTP/1.1\" 200 -\n",
      "INFO:werkzeug:192.168.0.108 - - [13/Feb/2023 12:30:55] \"POST /_dash-update-component HTTP/1.1\" 200 -\n",
      "C:\\Users\\hp\\anaconda3\\lib\\site-packages\\shapash\\webapp\\smart_app.py:1436: FutureWarning:\n",
      "\n",
      "Using short name for 'orient' is deprecated. Only the options: ('dict', list, 'series', 'split', 'records', 'index') will be used in a future version. Use one of the above to silence this warning.\n",
      "\n",
      "INFO:werkzeug:192.168.0.108 - - [13/Feb/2023 12:30:55] \"POST /_dash-update-component HTTP/1.1\" 200 -\n",
      "INFO:werkzeug:192.168.0.108 - - [13/Feb/2023 12:30:55] \"POST /_dash-update-component HTTP/1.1\" 200 -\n",
      "INFO:werkzeug:192.168.0.108 - - [13/Feb/2023 12:30:56] \"POST /_dash-update-component HTTP/1.1\" 200 -\n",
      "INFO:werkzeug:192.168.0.108 - - [13/Feb/2023 12:30:56] \"POST /_dash-update-component HTTP/1.1\" 200 -\n",
      "INFO:werkzeug:192.168.0.108 - - [13/Feb/2023 12:30:56] \"POST /_dash-update-component HTTP/1.1\" 200 -\n",
      "INFO:werkzeug:192.168.0.108 - - [13/Feb/2023 12:30:56] \"POST /_dash-update-component HTTP/1.1\" 200 -\n",
      "INFO:werkzeug:192.168.0.108 - - [13/Feb/2023 12:30:56] \"POST /_dash-update-component HTTP/1.1\" 200 -\n",
      "INFO:werkzeug:192.168.0.108 - - [13/Feb/2023 12:30:56] \"POST /_dash-update-component HTTP/1.1\" 200 -\n",
      "INFO:werkzeug:192.168.0.108 - - [13/Feb/2023 12:30:56] \"POST /_dash-update-component HTTP/1.1\" 200 -\n",
      "INFO:werkzeug:192.168.0.108 - - [13/Feb/2023 12:30:56] \"POST /_dash-update-component HTTP/1.1\" 200 -\n",
      "INFO:werkzeug:192.168.0.108 - - [13/Feb/2023 12:32:02] \"POST /_dash-update-component HTTP/1.1\" 200 -\n",
      "INFO:werkzeug:192.168.0.108 - - [13/Feb/2023 12:32:02] \"POST /_dash-update-component HTTP/1.1\" 200 -\n",
      "INFO:werkzeug:192.168.0.108 - - [13/Feb/2023 12:32:02] \"POST /_dash-update-component HTTP/1.1\" 200 -\n",
      "INFO:werkzeug:192.168.0.108 - - [13/Feb/2023 12:32:02] \"POST /_dash-update-component HTTP/1.1\" 200 -\n",
      "INFO:werkzeug:192.168.0.108 - - [13/Feb/2023 12:33:42] \"POST /_dash-update-component HTTP/1.1\" 200 -\n",
      "INFO:werkzeug:192.168.0.108 - - [13/Feb/2023 12:33:42] \"POST /_dash-update-component HTTP/1.1\" 200 -\n",
      "INFO:werkzeug:192.168.0.108 - - [13/Feb/2023 12:33:52] \"POST /_dash-update-component HTTP/1.1\" 200 -\n",
      "INFO:werkzeug:192.168.0.108 - - [13/Feb/2023 12:33:52] \"POST /_dash-update-component HTTP/1.1\" 200 -\n",
      "INFO:werkzeug:192.168.0.108 - - [13/Feb/2023 12:33:56] \"POST /_dash-update-component HTTP/1.1\" 200 -\n",
      "INFO:werkzeug:192.168.0.108 - - [13/Feb/2023 12:33:57] \"POST /_dash-update-component HTTP/1.1\" 200 -\n",
      "INFO:werkzeug:192.168.0.108 - - [13/Feb/2023 12:34:04] \"POST /_dash-update-component HTTP/1.1\" 200 -\n",
      "INFO:werkzeug:192.168.0.108 - - [13/Feb/2023 12:34:04] \"POST /_dash-update-component HTTP/1.1\" 200 -\n",
      "INFO:werkzeug:192.168.0.108 - - [13/Feb/2023 12:34:13] \"POST /_dash-update-component HTTP/1.1\" 200 -\n",
      "INFO:werkzeug:192.168.0.108 - - [13/Feb/2023 12:34:13] \"POST /_dash-update-component HTTP/1.1\" 200 -\n",
      "INFO:werkzeug:192.168.0.108 - - [13/Feb/2023 12:34:17] \"POST /_dash-update-component HTTP/1.1\" 200 -\n",
      "INFO:werkzeug:192.168.0.108 - - [13/Feb/2023 12:34:28] \"POST /_dash-update-component HTTP/1.1\" 200 -\n",
      "INFO:werkzeug:192.168.0.108 - - [13/Feb/2023 12:34:29] \"POST /_dash-update-component HTTP/1.1\" 200 -\n",
      "INFO:werkzeug:192.168.0.108 - - [13/Feb/2023 12:34:31] \"POST /_dash-update-component HTTP/1.1\" 200 -\n",
      "INFO:werkzeug:192.168.0.108 - - [13/Feb/2023 12:34:51] \"POST /_dash-update-component HTTP/1.1\" 200 -\n",
      "INFO:werkzeug:192.168.0.108 - - [13/Feb/2023 12:35:02] \"POST /_dash-update-component HTTP/1.1\" 200 -\n",
      "INFO:werkzeug:192.168.0.108 - - [13/Feb/2023 12:35:02] \"POST /_dash-update-component HTTP/1.1\" 200 -\n",
      "INFO:werkzeug:192.168.0.108 - - [13/Feb/2023 12:35:02] \"POST /_dash-update-component HTTP/1.1\" 200 -\n",
      "INFO:werkzeug:192.168.0.108 - - [13/Feb/2023 12:35:03] \"POST /_dash-update-component HTTP/1.1\" 200 -\n",
      "INFO:werkzeug:192.168.0.108 - - [13/Feb/2023 12:35:03] \"\u001b[35m\u001b[1mPOST /_dash-update-component HTTP/1.1\u001b[0m\" 204 -\n",
      "INFO:werkzeug:192.168.0.108 - - [13/Feb/2023 12:35:03] \"\u001b[35m\u001b[1mPOST /_dash-update-component HTTP/1.1\u001b[0m\" 204 -\n",
      "INFO:werkzeug:192.168.0.108 - - [13/Feb/2023 12:35:03] \"POST /_dash-update-component HTTP/1.1\" 200 -\n",
      "INFO:werkzeug:192.168.0.108 - - [13/Feb/2023 12:35:03] \"POST /_dash-update-component HTTP/1.1\" 200 -\n",
      "INFO:werkzeug:192.168.0.108 - - [13/Feb/2023 12:35:03] \"\u001b[35m\u001b[1mPOST /_dash-update-component HTTP/1.1\u001b[0m\" 204 -\n",
      "INFO:werkzeug:192.168.0.108 - - [13/Feb/2023 12:35:03] \"POST /_dash-update-component HTTP/1.1\" 200 -\n"
     ]
    },
    {
     "name": "stderr",
     "output_type": "stream",
     "text": [
      "INFO:werkzeug:192.168.0.108 - - [13/Feb/2023 12:35:03] \"\u001b[35m\u001b[1mPOST /_dash-update-component HTTP/1.1\u001b[0m\" 204 -\n",
      "INFO:werkzeug:192.168.0.108 - - [13/Feb/2023 12:35:03] \"POST /_dash-update-component HTTP/1.1\" 200 -\n",
      "INFO:werkzeug:192.168.0.108 - - [13/Feb/2023 12:35:03] \"POST /_dash-update-component HTTP/1.1\" 200 -\n",
      "INFO:werkzeug:192.168.0.108 - - [13/Feb/2023 12:35:03] \"POST /_dash-update-component HTTP/1.1\" 200 -\n",
      "INFO:werkzeug:192.168.0.108 - - [13/Feb/2023 12:35:03] \"POST /_dash-update-component HTTP/1.1\" 200 -\n",
      "INFO:werkzeug:192.168.0.108 - - [13/Feb/2023 12:35:23] \"\u001b[35m\u001b[1mPOST /_dash-update-component HTTP/1.1\u001b[0m\" 204 -\n"
     ]
    }
   ],
   "source": [
    "app = xpl.run_app(title_story='House_price_dataset')"
   ]
  },
  {
   "cell_type": "markdown",
   "id": "f368f565-8337-4532-9feb-9285b781b85c",
   "metadata": {},
   "source": [
    "## Stop the web app"
   ]
  },
  {
   "cell_type": "code",
   "execution_count": 11,
   "id": "895424f9-429c-41b2-8805-eb24546ae0bb",
   "metadata": {},
   "outputs": [],
   "source": [
    "app.kill()"
   ]
  },
  {
   "cell_type": "markdown",
   "id": "5adf9f9a-e653-4f82-b63e-5003cd430a55",
   "metadata": {},
   "source": [
    "# Export Local Explaination in DataFrame"
   ]
  },
  {
   "cell_type": "code",
   "execution_count": 12,
   "id": "872a882a-daa2-4303-993c-c6a4563ede3a",
   "metadata": {},
   "outputs": [],
   "source": [
    "summary_df= xpl.to_pandas(\n",
    "    max_contrib=3, # Number Max of features to show in summary\n",
    ")"
   ]
  },
  {
   "cell_type": "code",
   "execution_count": 13,
   "id": "f7954cbd-9b99-4927-97e6-aa7ec0286100",
   "metadata": {},
   "outputs": [
    {
     "data": {
      "text/html": [
       "<div>\n",
       "<style scoped>\n",
       "    .dataframe tbody tr th:only-of-type {\n",
       "        vertical-align: middle;\n",
       "    }\n",
       "\n",
       "    .dataframe tbody tr th {\n",
       "        vertical-align: top;\n",
       "    }\n",
       "\n",
       "    .dataframe thead th {\n",
       "        text-align: right;\n",
       "    }\n",
       "</style>\n",
       "<table border=\"1\" class=\"dataframe\">\n",
       "  <thead>\n",
       "    <tr style=\"text-align: right;\">\n",
       "      <th></th>\n",
       "      <th>pred</th>\n",
       "      <th>feature_1</th>\n",
       "      <th>value_1</th>\n",
       "      <th>contribution_1</th>\n",
       "      <th>feature_2</th>\n",
       "      <th>value_2</th>\n",
       "      <th>contribution_2</th>\n",
       "      <th>feature_3</th>\n",
       "      <th>value_3</th>\n",
       "      <th>contribution_3</th>\n",
       "    </tr>\n",
       "  </thead>\n",
       "  <tbody>\n",
       "    <tr>\n",
       "      <th>173</th>\n",
       "      <td>22.339164</td>\n",
       "      <td>rm</td>\n",
       "      <td>6.416</td>\n",
       "      <td>-3.082716</td>\n",
       "      <td>lstat</td>\n",
       "      <td>9.04</td>\n",
       "      <td>1.208154</td>\n",
       "      <td>crim</td>\n",
       "      <td>0.09178</td>\n",
       "      <td>0.429609</td>\n",
       "    </tr>\n",
       "    <tr>\n",
       "      <th>274</th>\n",
       "      <td>28.458042</td>\n",
       "      <td>lstat</td>\n",
       "      <td>3.53</td>\n",
       "      <td>4.566949</td>\n",
       "      <td>dis</td>\n",
       "      <td>4.0776</td>\n",
       "      <td>-0.416166</td>\n",
       "      <td>crim</td>\n",
       "      <td>0.05644</td>\n",
       "      <td>0.412815</td>\n",
       "    </tr>\n",
       "    <tr>\n",
       "      <th>491</th>\n",
       "      <td>16.707684</td>\n",
       "      <td>lstat</td>\n",
       "      <td>18.07</td>\n",
       "      <td>-4.111806</td>\n",
       "      <td>rm</td>\n",
       "      <td>5.983</td>\n",
       "      <td>-2.827564</td>\n",
       "      <td>crim</td>\n",
       "      <td>0.10574</td>\n",
       "      <td>1.645824</td>\n",
       "    </tr>\n",
       "    <tr>\n",
       "      <th>72</th>\n",
       "      <td>23.171373</td>\n",
       "      <td>rm</td>\n",
       "      <td>6.065</td>\n",
       "      <td>-3.041456</td>\n",
       "      <td>lstat</td>\n",
       "      <td>5.52</td>\n",
       "      <td>2.759225</td>\n",
       "      <td>crim</td>\n",
       "      <td>0.09164</td>\n",
       "      <td>0.411681</td>\n",
       "    </tr>\n",
       "    <tr>\n",
       "      <th>452</th>\n",
       "      <td>17.334208</td>\n",
       "      <td>lstat</td>\n",
       "      <td>17.27</td>\n",
       "      <td>-3.899976</td>\n",
       "      <td>rm</td>\n",
       "      <td>6.297</td>\n",
       "      <td>-2.432937</td>\n",
       "      <td>dis</td>\n",
       "      <td>2.3682</td>\n",
       "      <td>0.842183</td>\n",
       "    </tr>\n",
       "  </tbody>\n",
       "</table>\n",
       "</div>"
      ],
      "text/plain": [
       "          pred feature_1 value_1 contribution_1 feature_2 value_2  \\\n",
       "173  22.339164        rm   6.416      -3.082716     lstat    9.04   \n",
       "274  28.458042     lstat    3.53       4.566949       dis  4.0776   \n",
       "491  16.707684     lstat   18.07      -4.111806        rm   5.983   \n",
       "72   23.171373        rm   6.065      -3.041456     lstat    5.52   \n",
       "452  17.334208     lstat   17.27      -3.899976        rm   6.297   \n",
       "\n",
       "    contribution_2 feature_3  value_3 contribution_3  \n",
       "173       1.208154      crim  0.09178       0.429609  \n",
       "274      -0.416166      crim  0.05644       0.412815  \n",
       "491      -2.827564      crim  0.10574       1.645824  \n",
       "72        2.759225      crim  0.09164       0.411681  \n",
       "452      -2.432937       dis   2.3682       0.842183  "
      ]
     },
     "execution_count": 13,
     "metadata": {},
     "output_type": "execute_result"
    }
   ],
   "source": [
    "summary_df.head()"
   ]
  },
  {
   "cell_type": "markdown",
   "id": "8dc64780-9530-4e97-bbad-30d2d4ba0a9b",
   "metadata": {},
   "source": [
    "# Save Smart Explainer\n",
    "You can save the SmartExplainer Object in a pickle file to make new plots later or launch the WebApp again"
   ]
  },
  {
   "cell_type": "code",
   "execution_count": 14,
   "id": "693628db-0ba8-4c05-b86f-c3d54f8d93ac",
   "metadata": {},
   "outputs": [],
   "source": [
    "xpl.save('./xpl.pkl')"
   ]
  },
  {
   "cell_type": "markdown",
   "id": "c9dc9aff-d3cb-43d8-a81f-f2f3619fa7f4",
   "metadata": {},
   "source": [
    "# In Production"
   ]
  },
  {
   "cell_type": "markdown",
   "id": "d7cb39c2-409f-4552-b107-b9717547ea11",
   "metadata": {},
   "source": [
    "### Switch from SmartExplainer to SmartPredictor\n",
    "When you are satisfied by your results and the explainablity given by Shapash, you can use the SmartPredictor object for deployment. \n",
    "- In this section, we learn how to easily switch from SmartExplainer to a SmartPredictor.\n",
    "- SmartPredictor allows you to make predictions, detail and summarize contributions on new data automatically.\n",
    "- It only keeps the attributes needed for deployment to be lighter than the SmartExplainer object. \n",
    "- SmartPredictor performs additional consistency checks before deployment.\n",
    "- SmartPredictor allows you to configure the way of summary to suit your use cases.\n",
    "- It can be used with API or in batch mode."
   ]
  },
  {
   "cell_type": "code",
   "execution_count": 15,
   "id": "fb679599-4808-4844-ab77-9a3dc793389f",
   "metadata": {},
   "outputs": [],
   "source": [
    "predictor = xpl.to_smartpredictor()"
   ]
  },
  {
   "cell_type": "markdown",
   "id": "0752e6d6-c2d0-46ad-bc35-0cc644762459",
   "metadata": {},
   "source": [
    "#### Save your SmartPredictor in Pickle File"
   ]
  },
  {
   "cell_type": "code",
   "execution_count": 16,
   "id": "f8cca832-9bc0-4610-95a7-466c961ec60c",
   "metadata": {},
   "outputs": [],
   "source": [
    "predictor.save('./predictor.pkl')"
   ]
  },
  {
   "cell_type": "markdown",
   "id": "196627b9-ad22-4d60-ba7a-386f4c182723",
   "metadata": {},
   "source": [
    "#### Load SmartPredictor"
   ]
  },
  {
   "cell_type": "code",
   "execution_count": 17,
   "id": "1271a3c4-6bd3-4a49-a867-e4efc9437b2b",
   "metadata": {},
   "outputs": [],
   "source": [
    "from shapash.utils.load_smartpredictor import load_smartpredictor\n",
    "predictor_load = load_smartpredictor('./predictor.pkl')"
   ]
  },
  {
   "cell_type": "markdown",
   "id": "85ec50e1-f136-4444-ad1d-b6df9105d411",
   "metadata": {},
   "source": [
    "# Make prediction"
   ]
  },
  {
   "cell_type": "markdown",
   "id": "aa8aa7e0-ca44-459d-bb68-7f816ad28a4a",
   "metadata": {},
   "source": [
    "#### Add Data\n",
    "The x input in add_input method doesn't have to be encoded, add_input applies preprocessing."
   ]
  },
  {
   "cell_type": "code",
   "execution_count": 18,
   "id": "82fae7f4-7df4-41b0-8339-1587607566a1",
   "metadata": {},
   "outputs": [],
   "source": [
    "predictor_load.add_input(x=X, ypred=y)"
   ]
  },
  {
   "cell_type": "markdown",
   "id": "c33586a1-6a67-406d-9f8c-735aa342742f",
   "metadata": {},
   "source": [
    "#### Prediction"
   ]
  },
  {
   "cell_type": "code",
   "execution_count": 19,
   "id": "a9d3083a-8370-4cb3-905f-ceadf3e4f65b",
   "metadata": {},
   "outputs": [
    {
     "data": {
      "text/html": [
       "<div>\n",
       "<style scoped>\n",
       "    .dataframe tbody tr th:only-of-type {\n",
       "        vertical-align: middle;\n",
       "    }\n",
       "\n",
       "    .dataframe tbody tr th {\n",
       "        vertical-align: top;\n",
       "    }\n",
       "\n",
       "    .dataframe thead th {\n",
       "        text-align: right;\n",
       "    }\n",
       "</style>\n",
       "<table border=\"1\" class=\"dataframe\">\n",
       "  <thead>\n",
       "    <tr style=\"text-align: right;\">\n",
       "      <th></th>\n",
       "      <th>Price</th>\n",
       "    </tr>\n",
       "  </thead>\n",
       "  <tbody>\n",
       "    <tr>\n",
       "      <th>0</th>\n",
       "      <td>24.0</td>\n",
       "    </tr>\n",
       "    <tr>\n",
       "      <th>1</th>\n",
       "      <td>21.6</td>\n",
       "    </tr>\n",
       "    <tr>\n",
       "      <th>2</th>\n",
       "      <td>34.7</td>\n",
       "    </tr>\n",
       "    <tr>\n",
       "      <th>3</th>\n",
       "      <td>33.4</td>\n",
       "    </tr>\n",
       "    <tr>\n",
       "      <th>4</th>\n",
       "      <td>36.2</td>\n",
       "    </tr>\n",
       "  </tbody>\n",
       "</table>\n",
       "</div>"
      ],
      "text/plain": [
       "   Price\n",
       "0   24.0\n",
       "1   21.6\n",
       "2   34.7\n",
       "3   33.4\n",
       "4   36.2"
      ]
     },
     "execution_count": 19,
     "metadata": {},
     "output_type": "execute_result"
    }
   ],
   "source": [
    "predictor_load.data[\"ypred\"].head()"
   ]
  },
  {
   "cell_type": "markdown",
   "id": "60a3d828-5f72-4c9f-a973-3722b60ccf3c",
   "metadata": {},
   "source": [
    "## Detail Explainability about Prediction"
   ]
  },
  {
   "cell_type": "markdown",
   "id": "15ad4f32-6eda-4d35-aa12-14f7af58dd8f",
   "metadata": {},
   "source": [
    "You can use the method detail_contributions to see the detailed contributions of each of your features for each row of your new dataset.\n",
    "- For classification problems, it automatically associates contributions with the right predicted label. \n",
    "- The predicted label can be computed automatically in the method or you can specify an ypred with add_input method."
   ]
  },
  {
   "cell_type": "code",
   "execution_count": 20,
   "id": "555b5b36-3e96-4c99-ba66-1066a96bbde6",
   "metadata": {},
   "outputs": [
    {
     "data": {
      "text/html": [
       "<div>\n",
       "<style scoped>\n",
       "    .dataframe tbody tr th:only-of-type {\n",
       "        vertical-align: middle;\n",
       "    }\n",
       "\n",
       "    .dataframe tbody tr th {\n",
       "        vertical-align: top;\n",
       "    }\n",
       "\n",
       "    .dataframe thead th {\n",
       "        text-align: right;\n",
       "    }\n",
       "</style>\n",
       "<table border=\"1\" class=\"dataframe\">\n",
       "  <thead>\n",
       "    <tr style=\"text-align: right;\">\n",
       "      <th></th>\n",
       "      <th>Price</th>\n",
       "      <th>crim</th>\n",
       "      <th>zn</th>\n",
       "      <th>indus</th>\n",
       "      <th>chas</th>\n",
       "      <th>nox</th>\n",
       "      <th>rm</th>\n",
       "      <th>age</th>\n",
       "      <th>dis</th>\n",
       "      <th>rad</th>\n",
       "      <th>tax</th>\n",
       "      <th>ptratio</th>\n",
       "      <th>b</th>\n",
       "      <th>lstat</th>\n",
       "    </tr>\n",
       "  </thead>\n",
       "  <tbody>\n",
       "    <tr>\n",
       "      <th>0</th>\n",
       "      <td>24.0</td>\n",
       "      <td>0.423215</td>\n",
       "      <td>0.019483</td>\n",
       "      <td>0.524054</td>\n",
       "      <td>0.0</td>\n",
       "      <td>0.032216</td>\n",
       "      <td>-0.135991</td>\n",
       "      <td>0.094834</td>\n",
       "      <td>-0.293543</td>\n",
       "      <td>0.012403</td>\n",
       "      <td>0.031834</td>\n",
       "      <td>0.182565</td>\n",
       "      <td>0.019187</td>\n",
       "      <td>3.542889</td>\n",
       "    </tr>\n",
       "    <tr>\n",
       "      <th>1</th>\n",
       "      <td>21.6</td>\n",
       "      <td>0.417750</td>\n",
       "      <td>-0.016242</td>\n",
       "      <td>-0.070770</td>\n",
       "      <td>0.0</td>\n",
       "      <td>0.029173</td>\n",
       "      <td>-3.033726</td>\n",
       "      <td>0.057105</td>\n",
       "      <td>-0.256661</td>\n",
       "      <td>0.010222</td>\n",
       "      <td>0.060278</td>\n",
       "      <td>0.062440</td>\n",
       "      <td>0.020703</td>\n",
       "      <td>1.297995</td>\n",
       "    </tr>\n",
       "    <tr>\n",
       "      <th>2</th>\n",
       "      <td>34.7</td>\n",
       "      <td>0.307915</td>\n",
       "      <td>-0.015452</td>\n",
       "      <td>-0.107214</td>\n",
       "      <td>0.0</td>\n",
       "      <td>0.039740</td>\n",
       "      <td>7.089004</td>\n",
       "      <td>-0.011349</td>\n",
       "      <td>-0.327242</td>\n",
       "      <td>0.042771</td>\n",
       "      <td>0.129725</td>\n",
       "      <td>0.066879</td>\n",
       "      <td>0.049637</td>\n",
       "      <td>2.731585</td>\n",
       "    </tr>\n",
       "    <tr>\n",
       "      <th>3</th>\n",
       "      <td>33.4</td>\n",
       "      <td>0.232607</td>\n",
       "      <td>-0.013382</td>\n",
       "      <td>0.188800</td>\n",
       "      <td>0.0</td>\n",
       "      <td>-0.242170</td>\n",
       "      <td>5.805796</td>\n",
       "      <td>0.027803</td>\n",
       "      <td>-0.338229</td>\n",
       "      <td>0.022472</td>\n",
       "      <td>0.201246</td>\n",
       "      <td>-0.057347</td>\n",
       "      <td>0.068072</td>\n",
       "      <td>3.639941</td>\n",
       "    </tr>\n",
       "    <tr>\n",
       "      <th>4</th>\n",
       "      <td>36.2</td>\n",
       "      <td>0.313175</td>\n",
       "      <td>-0.019154</td>\n",
       "      <td>0.225412</td>\n",
       "      <td>0.0</td>\n",
       "      <td>0.037897</td>\n",
       "      <td>7.646519</td>\n",
       "      <td>0.028854</td>\n",
       "      <td>-0.252837</td>\n",
       "      <td>0.042364</td>\n",
       "      <td>0.325413</td>\n",
       "      <td>0.129532</td>\n",
       "      <td>-0.057451</td>\n",
       "      <td>2.129761</td>\n",
       "    </tr>\n",
       "  </tbody>\n",
       "</table>\n",
       "</div>"
      ],
      "text/plain": [
       "   Price      crim        zn     indus  chas       nox        rm       age  \\\n",
       "0   24.0  0.423215  0.019483  0.524054   0.0  0.032216 -0.135991  0.094834   \n",
       "1   21.6  0.417750 -0.016242 -0.070770   0.0  0.029173 -3.033726  0.057105   \n",
       "2   34.7  0.307915 -0.015452 -0.107214   0.0  0.039740  7.089004 -0.011349   \n",
       "3   33.4  0.232607 -0.013382  0.188800   0.0 -0.242170  5.805796  0.027803   \n",
       "4   36.2  0.313175 -0.019154  0.225412   0.0  0.037897  7.646519  0.028854   \n",
       "\n",
       "        dis       rad       tax   ptratio         b     lstat  \n",
       "0 -0.293543  0.012403  0.031834  0.182565  0.019187  3.542889  \n",
       "1 -0.256661  0.010222  0.060278  0.062440  0.020703  1.297995  \n",
       "2 -0.327242  0.042771  0.129725  0.066879  0.049637  2.731585  \n",
       "3 -0.338229  0.022472  0.201246 -0.057347  0.068072  3.639941  \n",
       "4 -0.252837  0.042364  0.325413  0.129532 -0.057451  2.129761  "
      ]
     },
     "execution_count": 20,
     "metadata": {},
     "output_type": "execute_result"
    }
   ],
   "source": [
    "detailed_contributions = predictor_load.detail_contributions()\n",
    "detailed_contributions.head()"
   ]
  },
  {
   "cell_type": "code",
   "execution_count": null,
   "id": "a15db08b-bf45-44ac-b21a-dced89e3dbfb",
   "metadata": {},
   "outputs": [],
   "source": []
  }
 ],
 "metadata": {
  "kernelspec": {
   "display_name": "Python 3 (ipykernel)",
   "language": "python",
   "name": "python3"
  },
  "language_info": {
   "codemirror_mode": {
    "name": "ipython",
    "version": 3
   },
   "file_extension": ".py",
   "mimetype": "text/x-python",
   "name": "python",
   "nbconvert_exporter": "python",
   "pygments_lexer": "ipython3",
   "version": "3.9.13"
  }
 },
 "nbformat": 4,
 "nbformat_minor": 5
}
